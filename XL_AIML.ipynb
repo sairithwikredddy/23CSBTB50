{
  "nbformat": 4,
  "nbformat_minor": 0,
  "metadata": {
    "colab": {
      "provenance": [],
      "authorship_tag": "ABX9TyNv/Uj0n8L1BJYonbPwAlye",
      "include_colab_link": true
    },
    "kernelspec": {
      "name": "python3",
      "display_name": "Python 3"
    },
    "language_info": {
      "name": "python"
    }
  },
  "cells": [
    {
      "cell_type": "markdown",
      "metadata": {
        "id": "view-in-github",
        "colab_type": "text"
      },
      "source": [
        "<a href=\"https://colab.research.google.com/github/sairithwikredddy/AIML/blob/main/XL_AIML.ipynb\" target=\"_parent\"><img src=\"https://colab.research.google.com/assets/colab-badge.svg\" alt=\"Open In Colab\"/></a>"
      ]
    },
    {
      "cell_type": "code",
      "execution_count": 1,
      "metadata": {
        "colab": {
          "base_uri": "https://localhost:8080/"
        },
        "id": "o0GyXvqi_Jp0",
        "outputId": "6bcf2dd4-a005-44a1-fdc1-ba802438be05"
      },
      "outputs": [
        {
          "output_type": "stream",
          "name": "stdout",
          "text": [
            "    STUDENT ID STUDENT NAME         STUDENT COURSE   STUDENT AGE   \\\n",
            "0   2403A52400         AKHIL                     OS            19   \n",
            "1   2403A52400           SAI                   AIML           118   \n",
            "2   2403A52400   SAI SHANKAR                   STML            17   \n",
            "3   2403A52400       SOHAIL                    JAVA            20   \n",
            "4   2403A52400         MANOJ                      C            21   \n",
            "5   2403A52400        SHIVA                     C++            20   \n",
            "6   2403A52400       HARSHA                    HTML            19   \n",
            "7   2403A52400     RAVITEJA                     SQL            18   \n",
            "8   2403A52400          ABHI                 PYTHON            18   \n",
            "9   2403A52400       MAHESH              ALGORITMS             20   \n",
            "10  2403A52400        RAKESH        WEB DEVOLOPMENT            21   \n",
            "11  2403A52400         SURAJ       MACHINE LEARNING            18   \n",
            "12  2403A52400       THARUN           DATA SCIENCE             19   \n",
            "13  2403A52400         VIKAS     OPP'S THROUGH C ++            18   \n",
            "14  2403A52400          AJAY   SOFTWARE ENGINEERING            19   \n",
            "15  2403A52400      MADHUKAR           LIFE SKILLS             17   \n",
            "16  2403A52400     SAI TEJA      COMPUTER NETWORKS             19   \n",
            "17  2403A52400        RITHIK  COMPUTER ARCHITECTURE            20   \n",
            "18  2403A52400     YESHWANTH       COMPILER DESIGN             21   \n",
            "19  2403A52400       KOWSHIK            JAVA SCRIPT            19   \n",
            "\n",
            "    STUDENT CONTACT  \n",
            "0        9849674120  \n",
            "1        9849674121  \n",
            "2        9849674123  \n",
            "3        9849674124  \n",
            "4        9849674125  \n",
            "5        9849674126  \n",
            "6        9849674127  \n",
            "7        9849674128  \n",
            "8        9849674129  \n",
            "9        9849674131  \n",
            "10       9849674132  \n",
            "11       9849674133  \n",
            "12       9849674135  \n",
            "13       9849674138  \n",
            "14       9849674139  \n",
            "15       9849674140  \n",
            "16       9849674145  \n",
            "17       9849674155  \n",
            "18       9849674158  \n",
            "19       9849674138  \n"
          ]
        }
      ],
      "source": [
        "import pandas as pd\n",
        "data=pd.read_excel(\"/content/excel1.xlsx\")\n",
        "print(data)"
      ]
    }
  ]
}