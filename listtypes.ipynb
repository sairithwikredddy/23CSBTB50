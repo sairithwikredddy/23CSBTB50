{
  "nbformat": 4,
  "nbformat_minor": 0,
  "metadata": {
    "colab": {
      "provenance": [],
      "authorship_tag": "ABX9TyMclB4eWZi0M7ygL5uFQlRD",
      "include_colab_link": true
    },
    "kernelspec": {
      "name": "python3",
      "display_name": "Python 3"
    },
    "language_info": {
      "name": "python"
    }
  },
  "cells": [
    {
      "cell_type": "markdown",
      "metadata": {
        "id": "view-in-github",
        "colab_type": "text"
      },
      "source": [
        "<a href=\"https://colab.research.google.com/github/sairithwikredddy/23CSBTB50/blob/main/listtypes.ipynb\" target=\"_parent\"><img src=\"https://colab.research.google.com/assets/colab-badge.svg\" alt=\"Open In Colab\"/></a>"
      ]
    },
    {
      "cell_type": "code",
      "execution_count": null,
      "metadata": {
        "colab": {
          "base_uri": "https://localhost:8080/"
        },
        "id": "j65j02z9s1d3",
        "outputId": "ecbcbce5-0b2f-4432-d881-3822469a8598"
      },
      "outputs": [
        {
          "output_type": "stream",
          "name": "stdout",
          "text": [
            "[2, 6, 1, 8, 6]\n",
            "<class 'list'>\n"
          ]
        }
      ],
      "source": [
        "lst=[2,6,1,8,6]\n",
        "print(lst)\n",
        "print(type(lst))"
      ]
    },
    {
      "cell_type": "code",
      "source": [
        "lst1=(1,2,3,45)\n",
        "print(lst1)\n",
        "print(type(lst1))"
      ],
      "metadata": {
        "colab": {
          "base_uri": "https://localhost:8080/"
        },
        "id": "WdUa0jT7t9Nn",
        "outputId": "e1e4ddcc-bd81-42dd-9cf7-8a32b1488c24"
      },
      "execution_count": null,
      "outputs": [
        {
          "output_type": "stream",
          "name": "stdout",
          "text": [
            "(1, 2, 3, 45)\n",
            "<class 'tuple'>\n"
          ]
        }
      ]
    },
    {
      "cell_type": "code",
      "source": [
        "lst1={1,2,3,4,5}\n",
        "print(lst1)\n",
        "print(type(lst1))"
      ],
      "metadata": {
        "id": "Eveq0AkGwJ3K",
        "colab": {
          "base_uri": "https://localhost:8080/"
        },
        "outputId": "2145f3e4-9983-4d70-a0a6-d0ed26dd6f0d"
      },
      "execution_count": null,
      "outputs": [
        {
          "output_type": "stream",
          "name": "stdout",
          "text": [
            "{1, 2, 3, 4, 5}\n",
            "<class 'set'>\n"
          ]
        }
      ]
    },
    {
      "cell_type": "code",
      "source": [
        "lst1={1:\"A\",2:\"B\",3:\"C\",4:\"D\",5:\"E\"}\n",
        "print(lst1)\n",
        "print(type(lst1))"
      ],
      "metadata": {
        "colab": {
          "base_uri": "https://localhost:8080/"
        },
        "id": "Je5JcgYZ2yao",
        "outputId": "d380c524-67a6-414d-a0ee-bfc1b0b6e6b0"
      },
      "execution_count": null,
      "outputs": [
        {
          "output_type": "stream",
          "name": "stdout",
          "text": [
            "{1: 'A', 2: 'B', 3: 'C', 4: 'D', 5: 'E'}\n",
            "<class 'dict'>\n"
          ]
        }
      ]
    },
    {
      "cell_type": "code",
      "source": [
        "lst3=3.4\n",
        "print(lst3)\n",
        "print(type(lst3))"
      ],
      "metadata": {
        "colab": {
          "base_uri": "https://localhost:8080/"
        },
        "id": "dS3uxclT3Bna",
        "outputId": "fe8834b6-7025-456d-beb1-698b6f05c4ab"
      },
      "execution_count": null,
      "outputs": [
        {
          "output_type": "stream",
          "name": "stdout",
          "text": [
            "3.4\n",
            "<class 'float'>\n"
          ]
        }
      ]
    },
    {
      "cell_type": "code",
      "source": [
        "lst4=3j+6\n",
        "print(lst4)\n",
        "print(type(lst4))\n"
      ],
      "metadata": {
        "colab": {
          "base_uri": "https://localhost:8080/"
        },
        "id": "PPE5cyvx3EbT",
        "outputId": "d0ce20ce-d504-4664-ca06-f152eadf2541"
      },
      "execution_count": null,
      "outputs": [
        {
          "output_type": "stream",
          "name": "stdout",
          "text": [
            "(6+3j)\n",
            "<class 'complex'>\n"
          ]
        }
      ]
    },
    {
      "cell_type": "code",
      "source": [
        "lst2=(\"welcome to AIML\")\n",
        "print(lst2)\n",
        "print(type(lst2))"
      ],
      "metadata": {
        "id": "nUEHPt8N3J6X",
        "outputId": "6093c2a8-2460-40e1-e92d-962bc15ab445",
        "colab": {
          "base_uri": "https://localhost:8080/"
        }
      },
      "execution_count": null,
      "outputs": [
        {
          "output_type": "stream",
          "name": "stdout",
          "text": [
            "welcome to AIML\n",
            "<class 'str'>\n"
          ]
        }
      ]
    },
    {
      "cell_type": "code",
      "source": [],
      "metadata": {
        "id": "TrE0BTqh3N7i"
      },
      "execution_count": null,
      "outputs": []
    }
  ]
}